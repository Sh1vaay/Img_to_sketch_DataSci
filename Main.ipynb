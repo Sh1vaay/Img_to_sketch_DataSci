{
 "cells": [
  {
   "cell_type": "markdown",
   "id": "de9a4c77",
   "metadata": {},
   "source": [
    "# Beginner Level Task 01-4]"
   ]
  },
  {
   "cell_type": "markdown",
   "id": "9315889a",
   "metadata": {},
   "source": [
    "## 4)Image to Pencil Sketch with Python:We need to read the image in RBG format and then convert it to a grayscale image. This will turn an image into a classic black and white photo. Then the next thing to do is invert the grayscale image also called negative image, this will be our inverted grayscale image. Inversion can be used to enhance details. Then we can finally create the pencil sketch by mixing the grayscale image with the inverted blurry image. This can be done by dividing the grayscale image by the inverted blurry image. Since images are just arrays, we can easily do this programmatically using the divide function from the cv2 library in Python.\n",
    "\n"
   ]
  },
  {
   "cell_type": "markdown",
   "id": "701ffd73",
   "metadata": {},
   "source": [
    "## Abhishek_Sutar"
   ]
  },
  {
   "cell_type": "markdown",
   "id": "29fd0281",
   "metadata": {},
   "source": [
    "### Import Libraries "
   ]
  },
  {
   "cell_type": "code",
   "execution_count": null,
   "id": "1b3f3b99",
   "metadata": {},
   "outputs": [],
   "source": [
    "import cv2\n",
    "from PIL import Image\n",
    "from IPython.display import display\n"
   ]
  },
  {
   "cell_type": "markdown",
   "id": "f228b4cd",
   "metadata": {},
   "source": [
    "## Read The image "
   ]
  },
  {
   "cell_type": "code",
   "execution_count": null,
   "id": "71312f3d",
   "metadata": {},
   "outputs": [],
   "source": [
    "image_1=cv2.imread(r\"C:\\Users\\shiva\\Downloads\\tony-stark-1.jpg\")\n",
    "image_1=cv2.cvtColor(image_1,cv2.COLOR_BGR2RGB)\n",
    "display(Image.fromarray(image_1))"
   ]
  },
  {
   "cell_type": "markdown",
   "id": "553f7307",
   "metadata": {},
   "source": [
    "## conversion into grayscale Image"
   ]
  },
  {
   "cell_type": "code",
   "execution_count": null,
   "id": "0981d6c9",
   "metadata": {},
   "outputs": [],
   "source": [
    "grey_image=cv2.cvtColor(image_1,cv2.COLOR_BGR2GRAY )\n",
    "display(Image.fromarray(grey_image))"
   ]
  },
  {
   "cell_type": "markdown",
   "id": "7558b2ae",
   "metadata": {},
   "source": [
    " ## getting Inverted Image"
   ]
  },
  {
   "cell_type": "code",
   "execution_count": null,
   "id": "771d2b2d",
   "metadata": {},
   "outputs": [],
   "source": [
    "inverted_img=cv2.bitwise_not(grey_image)\n",
    "display(Image.fromarray(inverted_img))"
   ]
  },
  {
   "cell_type": "code",
   "execution_count": null,
   "id": "94d5b9ba",
   "metadata": {},
   "outputs": [],
   "source": [
    "## Now conversion of Negative into Blurry image"
   ]
  },
  {
   "cell_type": "code",
   "execution_count": null,
   "id": "4f1fa73a",
   "metadata": {},
   "outputs": [],
   "source": [
    "blurred_img=cv2.GaussianBlur(inverted_img,(21,21),0)\n",
    "display(Image.fromarray(blurred_img))"
   ]
  },
  {
   "cell_type": "code",
   "execution_count": null,
   "id": "0f1d5691",
   "metadata": {},
   "outputs": [],
   "source": [
    " ## Final conversion by mixing the greyscale img with inverted blurry image"
   ]
  },
  {
   "cell_type": "code",
   "execution_count": null,
   "id": "53873a12",
   "metadata": {},
   "outputs": [],
   "source": [
    "inverted_blurry=cv2.bitwise_not(blurred_img)\n",
    "display(Image.fromarray(inverted_blurry))\n",
    "sketch=cv2.divide(grey_image,inverted_blurry,scale=255.0)\n",
    "display(Image.fromarray(sketch))"
   ]
  },
  {
   "cell_type": "code",
   "execution_count": null,
   "id": "c9d7bca9",
   "metadata": {},
   "outputs": [],
   "source": [
    "image_2=cv2.imread(r\"C:\\Users\\shiva\\Downloads\\iron-man-1.jpg\")\n",
    "image_2=cv2.cvtColor(image_2,cv2.COLOR_BGR2RGB)\n",
    "display(Image.fromarray(image_2))"
   ]
  },
  {
   "cell_type": "code",
   "execution_count": null,
   "id": "064d87ca",
   "metadata": {},
   "outputs": [],
   "source": [
    "grey_image=cv2.cvtColor(image_2,cv2.COLOR_BGR2GRAY )\n",
    "display(Image.fromarray(grey_image))"
   ]
  },
  {
   "cell_type": "code",
   "execution_count": null,
   "id": "95276aff",
   "metadata": {},
   "outputs": [],
   "source": [
    "inverted_img=cv2.bitwise_not(grey_image)\n",
    "display(Image.fromarray(inverted_img))"
   ]
  },
  {
   "cell_type": "code",
   "execution_count": null,
   "id": "cbf8194a",
   "metadata": {},
   "outputs": [],
   "source": [
    "blurred_img=cv2.GaussianBlur(inverted_img,(21,21),0)\n",
    "display(Image.fromarray(blurred_img))"
   ]
  },
  {
   "cell_type": "code",
   "execution_count": null,
   "id": "6962f0d5",
   "metadata": {},
   "outputs": [],
   "source": [
    "inverted_blurry=cv2.bitwise_not(blurred_img)\n",
    "display(Image.fromarray(inverted_blurry))\n",
    "sketch=cv2.divide(grey_image,inverted_blurry,scale=255.0)\n",
    "display(Image.fromarray(sketch))"
   ]
  },
  {
   "cell_type": "code",
   "execution_count": null,
   "id": "52a096f3",
   "metadata": {},
   "outputs": [],
   "source": [
    "image_3=cv2.imread(r\"C:\\Users\\shiva\\Downloads\\tasm2.jpg\")\n",
    "image_3=cv2.cvtColor(image_3,cv2.COLOR_BGR2RGB)\n",
    "display(Image.fromarray(image_3))"
   ]
  },
  {
   "cell_type": "code",
   "execution_count": null,
   "id": "32940501",
   "metadata": {},
   "outputs": [],
   "source": [
    "grey_image=cv2.cvtColor(image_3,cv2.COLOR_BGR2GRAY )\n",
    "display(Image.fromarray(grey_image))"
   ]
  },
  {
   "cell_type": "code",
   "execution_count": null,
   "id": "28944bcf",
   "metadata": {},
   "outputs": [],
   "source": [
    "inverted_img=cv2.bitwise_not(grey_image)\n",
    "display(Image.fromarray(inverted_img))"
   ]
  },
  {
   "cell_type": "code",
   "execution_count": null,
   "id": "3da9b663",
   "metadata": {},
   "outputs": [],
   "source": [
    "blurred_img=cv2.GaussianBlur(inverted_img,(21,21),0)\n",
    "display(Image.fromarray(blurred_img))"
   ]
  },
  {
   "cell_type": "code",
   "execution_count": null,
   "id": "721279b1",
   "metadata": {},
   "outputs": [],
   "source": [
    "inverted_blurry=cv2.bitwise_not(blurred_img)\n",
    "display(Image.fromarray(inverted_blurry))\n",
    "sketch=cv2.divide(grey_image,inverted_blurry,scale=255.0)\n",
    "display(Image.fromarray(sketch))"
   ]
  },
  {
   "cell_type": "code",
   "execution_count": null,
   "id": "9c515bd7",
   "metadata": {},
   "outputs": [],
   "source": [
    "image_4=cv2.imread(r\"C:\\Users\\shiva\\Downloads\\obito uchiha.jpg\")\n",
    "image_4=cv2.cvtColor(image_4,cv2.COLOR_BGR2RGB)\n",
    "display(Image.fromarray(image_4))"
   ]
  },
  {
   "cell_type": "code",
   "execution_count": null,
   "id": "dfcd9de5",
   "metadata": {},
   "outputs": [],
   "source": [
    "grey_image=cv2.cvtColor(image_4,cv2.COLOR_BGR2GRAY )\n",
    "display(Image.fromarray(grey_image))"
   ]
  },
  {
   "cell_type": "code",
   "execution_count": null,
   "id": "6cf75fdf",
   "metadata": {},
   "outputs": [],
   "source": [
    "inverted_img=cv2.bitwise_not(grey_image)\n",
    "display(Image.fromarray(inverted_img))"
   ]
  },
  {
   "cell_type": "code",
   "execution_count": null,
   "id": "8227c5f9",
   "metadata": {},
   "outputs": [],
   "source": [
    "blurred_img=cv2.GaussianBlur(inverted_img,(21,21),0)\n",
    "display(Image.fromarray(blurred_img))"
   ]
  },
  {
   "cell_type": "code",
   "execution_count": null,
   "id": "4c21f925",
   "metadata": {},
   "outputs": [],
   "source": [
    "inverted_blurry=cv2.bitwise_not(blurred_img)\n",
    "display(Image.fromarray(inverted_blurry))\n",
    "sketch=cv2.divide(grey_image,inverted_blurry,scale=260)\n",
    "display(Image.fromarray(sketch))"
   ]
  }
 ],
 "metadata": {
  "kernelspec": {
   "display_name": "Python 3 (ipykernel)",
   "language": "python",
   "name": "python3"
  },
  "language_info": {
   "codemirror_mode": {
    "name": "ipython",
    "version": 3
   },
   "file_extension": ".py",
   "mimetype": "text/x-python",
   "name": "python",
   "nbconvert_exporter": "python",
   "pygments_lexer": "ipython3",
   "version": "3.9.6"
  }
 },
 "nbformat": 4,
 "nbformat_minor": 5
}
